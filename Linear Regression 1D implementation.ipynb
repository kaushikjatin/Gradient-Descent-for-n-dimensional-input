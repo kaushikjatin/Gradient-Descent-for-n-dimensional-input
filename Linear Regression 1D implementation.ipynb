{
 "cells": [
  {
   "cell_type": "code",
   "execution_count": 2,
   "metadata": {},
   "outputs": [],
   "source": [
    "import numpy as np;\n",
    "data=np.loadtxt(\"data.csv\",delimiter=\",\");\n",
    "x=data[:,0];\n",
    "y=data[:,1];"
   ]
  },
  {
   "cell_type": "code",
   "execution_count": 5,
   "metadata": {},
   "outputs": [
    {
     "name": "stdout",
     "output_type": "stream",
     "text": [
      "[[ 1]\n",
      " [ 2]\n",
      " [ 3]\n",
      " [ 4]\n",
      " [ 5]\n",
      " [ 6]\n",
      " [ 7]\n",
      " [ 8]\n",
      " [ 9]\n",
      " [10]\n",
      " [11]\n",
      " [12]\n",
      " [13]\n",
      " [14]\n",
      " [15]\n",
      " [16]\n",
      " [17]]\n",
      "[0 0 0 0 0 0 0 0 0 0 1 1 1 1 1 1 1]\n"
     ]
    }
   ],
   "source": [
    "from sklearn import model_selection;\n",
    "x_train,x_test,y_train,y_test=model_selection.train_test_split(x,y);\n",
    "data=np.array([[1,0],[2,0],[3,0],[4,0],[5,0],[6,0],[7,0],[8,0],[9,0],[10,0],[11,1],[12,1],[13,1],[14,1],[15,1],[16,1],[17,1]]);\n",
    "x_train=data[:,0:-1];\n",
    "y_train=data[:,-1];\n",
    "print(x_train);\n",
    "print(y_train);"
   ]
  },
  {
   "cell_type": "code",
   "execution_count": 6,
   "metadata": {},
   "outputs": [],
   "source": [
    "def fit(x,y):\n",
    "    num=(x*y).mean()-x.mean()*y.mean();\n",
    "    den=(x**2).mean()-x.mean()*x.mean();\n",
    "    m=num/den;\n",
    "    c=y.mean()-m*(x.mean());\n",
    "    return m,c;\n",
    "\n",
    "def pred(x,m,c):\n",
    "    return (m*x+c);"
   ]
  },
  {
   "cell_type": "code",
   "execution_count": 8,
   "metadata": {},
   "outputs": [
    {
     "name": "stdout",
     "output_type": "stream",
     "text": [
      "[[0.41176471]\n",
      " [0.41176471]\n",
      " [0.41176471]\n",
      " [0.41176471]\n",
      " [0.41176471]\n",
      " [0.41176471]\n",
      " [0.41176471]\n",
      " [0.41176471]\n",
      " [0.41176471]\n",
      " [0.41176471]\n",
      " [0.41176471]\n",
      " [0.41176471]\n",
      " [0.41176471]\n",
      " [0.41176471]\n",
      " [0.41176471]\n",
      " [0.41176471]\n",
      " [0.41176471]]\n",
      "[ 65.10171157  65.28088692  52.68298337  56.87721319  72.24725107\n",
      "  55.23166089  99.05141484  97.91982104  61.68403752  45.57058882\n",
      "  78.21151827  50.39267014  75.39287043  63.64239878  59.17148932\n",
      "  71.54663223  52.72549438  73.68756432  81.43619216  95.53668685\n",
      "  60.72360244  59.10883927 104.25710159  65.56230126  87.23092513]\n"
     ]
    }
   ],
   "source": [
    "m,c=fit(x_train,y_train);\n",
    "ypred=pred(x_train,m,c);\n",
    "print(ypred);\n",
    "print(y_test);"
   ]
  }
 ],
 "metadata": {
  "kernelspec": {
   "display_name": "Python 3",
   "language": "python",
   "name": "python3"
  },
  "language_info": {
   "codemirror_mode": {
    "name": "ipython",
    "version": 3
   },
   "file_extension": ".py",
   "mimetype": "text/x-python",
   "name": "python",
   "nbconvert_exporter": "python",
   "pygments_lexer": "ipython3",
   "version": "3.7.3"
  }
 },
 "nbformat": 4,
 "nbformat_minor": 2
}
